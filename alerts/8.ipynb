{
 "cells": [
  {
   "cell_type": "code",
   "execution_count": null,
   "id": "40e01a8e",
   "metadata": {},
   "outputs": [],
   "source": [
    "import pandas as pd\n",
    "import pandahouse as ph\n",
    "import datetime as dt\n",
    "import seaborn as sns\n",
    "import datetime as dt\n",
    "from scipy import stats as st\n",
    "import telegram\n",
    "import matplotlib.pyplot as plt\n",
    "import io\n",
    "from airflow.decorators import dag, task"
   ]
  },
  {
   "cell_type": "code",
   "execution_count": null,
   "id": "ba3e30a6",
   "metadata": {},
   "outputs": [],
   "source": [
    "default_args = {\n",
    "    'owner': 'name',\n",
    "    'depends_on_past': False,\n",
    "    'retries': 2,\n",
    "    'retry_delay': dt.timedelta(minutes=5),\n",
    "    'start_date': dt.datetime(2022, 7, 30),\n",
    "}"
   ]
  },
  {
   "cell_type": "code",
   "execution_count": null,
   "id": "b5899b78",
   "metadata": {},
   "outputs": [],
   "source": [
    "my_token = '<token>'\n",
    "bot = telegram.Bot(token=my_token)"
   ]
  },
  {
   "cell_type": "code",
   "execution_count": null,
   "id": "59a537ff",
   "metadata": {},
   "outputs": [],
   "source": [
    "schedule_interval = '15 * * * *'\n",
    "connection = {'host': 'host',\n",
    "                      'database':'db',\n",
    "                      'user':'name', \n",
    "                      'password':'password'\n",
    "                     }"
   ]
  },
  {
   "cell_type": "code",
   "execution_count": null,
   "id": "fb5ae139",
   "metadata": {},
   "outputs": [],
   "source": [
    "q = \"\"\"\n",
    "SELECT COUNT(DISTINCT user_id) as DAU,\n",
    "countIf(action = 'like') as likes,\n",
    "countIf(action = 'view') as views,\n",
    "likes/views as CTR,\n",
    "source,\n",
    "toStartOfFifteenMinutes(time) as fifteen_minutes,\n",
    "DATE(time) as day\n",
    "FROM simulator_20220720.feed_actions\n",
    "WHERE DATE(time) BETWEEN DATE(today() - 365) and DATE(today())\n",
    "GROUP BY toStartOfFifteenMinutes(time), day, source\n",
    "\"\"\""
   ]
  },
  {
   "cell_type": "code",
   "execution_count": null,
   "id": "fe1ef3ef",
   "metadata": {},
   "outputs": [],
   "source": [
    "q1 = \"\"\"\n",
    "SELECT COUNT(user_id) as messages,\n",
    "COUNT(DISTINCT user_id) as sendlers,\n",
    "COUNT(DIStiNCT reciever_id) as recievers,\n",
    "source,\n",
    "DATE(time) as day,\n",
    "toStartOfFifteenMinutes(time) as fifteen_minutes\n",
    "FROM simulator_20220720.message_actions\n",
    "WHERE DATE(time) BETWEEN DATE(today() - 365) and DATE(today())\n",
    "GROUP BY day, fifteen_minutes, source\n",
    "\"\"\""
   ]
  },
  {
   "cell_type": "code",
   "execution_count": null,
   "id": "99204b6e",
   "metadata": {},
   "outputs": [],
   "source": [
    "today = dt.datetime.now().strftime(format='%Y-%m-%d')\n",
    "alpha = 0.05"
   ]
  },
  {
   "cell_type": "code",
   "execution_count": null,
   "id": "d17f77b8",
   "metadata": {},
   "outputs": [],
   "source": [
    "@dag(default_args=default_args, schedule_interval=schedule_interval, catchup=False)\n",
    "def lmk_report_8():\n",
    "    \n",
    "    @task\n",
    "    def actions():\n",
    "        actions = ph.read_clickhouse(q, connection=connection)\n",
    "        actions['minutes'] = actions['fifteen_minutes'].apply(lambda x: x.strftime(format='%H:%M'))\n",
    "        return actions\n",
    "    \n",
    "    @task\n",
    "    def messages():\n",
    "        messages = ph.read_clickhouse(q1, connection=connection)\n",
    "        messages['minutes'] = messages['fifteen_minutes'].apply(lambda x: x.strftime(format='%H:%M'))\n",
    "        return messages\n",
    "    \n",
    "    @task\n",
    "    def actions_alert(actions):\n",
    "        last_fm = actions.query('day == @today').sort_values(by='minutes').tail(1)['minutes'].unique()[0]\n",
    "        metrics = []\n",
    "        for i in ['DAU', 'likes', 'views', 'CTR']:\n",
    "            for j in ['organic', 'ads']:\n",
    "                interested_value = actions.query('day == @today and source == @j and minutes == @last_fm')[i].unique()[0]\n",
    "                query = actions.query('day < @today and source == @j and minutes == @last_fm')[i]\n",
    "                results = st.ttest_1samp(query, interested_value)\n",
    "                if results.pvalue < alpha:\n",
    "                    metrics.append([i, j, interested_value, '{:.2f}'.format(query.mean())])\n",
    "        return metrics\n",
    "        \n",
    "    @task\n",
    "    def messages_alert(messages):\n",
    "        last_fm = messages.query('day == @today').sort_values(by='minutes').tail(1)['minutes'].unique()[0]\n",
    "        metrics = []\n",
    "        for i in ['messages', 'sendlers', 'recievers']:\n",
    "            for j in ['organic', 'ads']:\n",
    "                interested_value = messages.query('day == @today and source == @j and minutes == @last_fm')[i].unique()[0]\n",
    "                query =  messages.query('day < @today and source == @j and minutes == @last_fm')[i]\n",
    "                results = st.ttest_1samp(query, interested_value)\n",
    "                if results.pvalue < alpha:\n",
    "                    metrics.append([i, j, interested_value, '{:.2f}'.format(query.mean())])\n",
    "        return metrics\n",
    "    \n",
    "    @task\n",
    "    def metrics_msg(actions_metrics, messages_metrics, chat_id):\n",
    "        msg = []\n",
    "        actions_metrics = actions_metrics\n",
    "        messages_metrics = messages_metrics\n",
    "        if len(actions_metrics) == 0:\n",
    "            if len(messages_metrics) == 0:\n",
    "                return 'all right'\n",
    "            else:\n",
    "                for i in messages_metrics:\n",
    "                    msg.append('Метрика: {}, источник трафика: {}\\nзначение: {}, отклонение от среднегодового значения: {:.2%}'.format(i[0], i[1], i[2], (float(i[2]) - float(i[3]))/float(i[3])))\n",
    "        else:\n",
    "            for i in actions_metrics:\n",
    "                    msg.append('Метрика: {}, источник трафика: {}\\nзначение: {}, отклонение от среднегодового значения: {:.2%}'.format(i[0], i[1], i[2], (float(i[2]) - float(i[3]))/float(i[3])))\n",
    "        if len(msg) != 0:\n",
    "            msg = '\\n'.join(msg)\n",
    "            bot.sendMessage(chat_id=chat_id, text=msg)\n",
    "            \n",
    "    @task\n",
    "    def plot_msg(df, df_metrics, chat_id):\n",
    "        if len(df_metrics) != 0:\n",
    "            last_fm = df.query('day == @today').sort_values(by='minutes').tail(1)['minutes'].unique()[0]\n",
    "            metrics = list(set([i[0] for i in df_metrics]))\n",
    "            fig, ax = plt.subplots(len(metrics))\n",
    "            for i in range(len(metrics)):\n",
    "                fig.autofmt_xdate()\n",
    "                sns.lineplot(ax=ax[i], x='day', y=df[metrics[i]], legend='full', data=df.query('minutes == @last_fm'))\n",
    "            plot_object = io.BytesIO()\n",
    "            plt.savefig(plot_object)\n",
    "            plot_object.seek(0)\n",
    "            plot_object.name = 'plot.png'\n",
    "            plt.close()\n",
    "            bot.sendPhoto(chat_id=chat_id, photo=plot_object)\n",
    "                \n",
    "    actions = actions()\n",
    "    actions_metrics = actions_alert(actions)\n",
    "    messages = messages()\n",
    "    messages_metrics = messages_alert(messages)        \n",
    "    metrics_msg(actions_metrics, messages_metrics, chat_id='<id>') \n",
    "    plot_msg(actions, actions_metrics, chat_id='<id>')\n",
    "    plot_msg(messages, messages_metrics, chat_id='<id>')"
   ]
  },
  {
   "cell_type": "code",
   "execution_count": null,
   "id": "f4ba66fb",
   "metadata": {},
   "outputs": [],
   "source": [
    "lmk_report_8 = lmk_report_8()"
   ]
  }
 ],
 "metadata": {
  "kernelspec": {
   "display_name": "Python 3 (ipykernel)",
   "language": "python",
   "name": "python3"
  },
  "language_info": {
   "codemirror_mode": {
    "name": "ipython",
    "version": 3
   },
   "file_extension": ".py",
   "mimetype": "text/x-python",
   "name": "python",
   "nbconvert_exporter": "python",
   "pygments_lexer": "ipython3",
   "version": "3.8.8"
  }
 },
 "nbformat": 4,
 "nbformat_minor": 5
}
