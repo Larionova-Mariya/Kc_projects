{
 "cells": [
  {
   "cell_type": "code",
   "execution_count": null,
   "id": "6718938d",
   "metadata": {},
   "outputs": [],
   "source": [
    "import telegram\n",
    "import numpy as np\n",
    "import matplotlib.pyplot as plt\n",
    "import seaborn as sns\n",
    "import io\n",
    "import pandas as pd\n",
    "import pandahouse as ph\n",
    "import datetime as dt\n",
    "from airflow import DAG\n",
    "from airflow.operators.python import PythonOperator\n",
    "from airflow.decorators import dag, task"
   ]
  },
  {
   "cell_type": "code",
   "execution_count": null,
   "id": "9e769499",
   "metadata": {},
   "outputs": [],
   "source": [
    "default_args = {\n",
    "    'owner': 'name',\n",
    "    'depends_on_past': False,\n",
    "    'retries': 2,\n",
    "    'retry_delay': dt.timedelta(minutes=5),\n",
    "    'start_date': dt.datetime(2022, 7, 30),\n",
    "}\n",
    "schedule_interval = '0 11 * * *'\n",
    "connection = {'host': 'host',\n",
    "                      'database':'db',\n",
    "                      'user':'name', \n",
    "                      'password':'password'\n",
    "                     }"
   ]
  },
  {
   "cell_type": "code",
   "execution_count": null,
   "id": "1f328a7a",
   "metadata": {},
   "outputs": [],
   "source": [
    "my_token = '<token>'\n",
    "bot = telegram.Bot(token=my_token)"
   ]
  },
  {
   "cell_type": "code",
   "execution_count": null,
   "id": "513b2df8",
   "metadata": {},
   "outputs": [],
   "source": [
    "def lmk_report(chat_id): \n",
    "    q = \"\"\"\n",
    "    SELECT DATE(time) as day, COUNT(DISTINCT user_id) as DAU,\n",
    "    sum(action='like') as likes,\n",
    "    sum(action='view') as views,\n",
    "    likes/views as CTR\n",
    "    FROM simulator_20220720.feed_actions\n",
    "    WHERE DATE(time) = DATE(yesterday())\n",
    "    GROUP BY DATE(time)\n",
    "    \"\"\"\n",
    "    df = ph.read_clickhouse(q, connection=connection)\n",
    "    msg = '{}\\n DAU : {:_}\\n likes: {:_}\\n views: {:_}\\n CTR: {:.2%}'.format(df['day'][0].strftime('%d.%m.%Y'), df['DAU'][0], df['likes'][0], df['views'][0], df['CTR'][0]).replace('_', ' ')\n",
    "    bot.sendMessage(chat_id=chat_id, text=msg)\n",
    "    q1 = \"\"\"\n",
    "    SELECT DATE(time) as day, COUNT(DISTINCT user_id) as DAU,\n",
    "    sum(action='like') as likes,\n",
    "    sum(action='view') as views,\n",
    "    likes/views as CTR\n",
    "    FROM simulator_20220720.feed_actions\n",
    "    WHERE DATE(time) between DATE(today()-7) and DATE(yesterday())\n",
    "    GROUP BY DATE(time)\n",
    "    \"\"\"\n",
    "    df1 = ph.read_clickhouse(q1, connection=connection)\n",
    "    fig, ax = plt.subplots(2, 2, figsize=(15, 15))\n",
    "    fig.suptitle('Динамика за семь дней')\n",
    "    plt.subplots_adjust(hspace=0.3)\n",
    "    plt.rcParams['font.size'] = '16'\n",
    "    sns.lineplot(ax=ax[0, 0], data=df1, x='day', y='DAU')\n",
    "    ax[0, 0].set_title('DAU')\n",
    "    ax[0, 0].tick_params(axis='x', labelrotation=45)\n",
    "    sns.lineplot(ax=ax[0, 1], data=df1, x='day', y='CTR')\n",
    "    ax[0, 1].set_title('CTR')\n",
    "    ax[0, 1].tick_params(axis='x', labelrotation=45)\n",
    "    sns.lineplot(ax=ax[1, 0], data=df1, x='day', y='likes')\n",
    "    ax[1, 0].set_title('likes')\n",
    "    ax[1, 0].tick_params(axis='x', labelrotation=45)\n",
    "    sns.lineplot(ax=ax[1, 1], data=df1, x='day', y='views')\n",
    "    ax[1, 1].set_title('views')\n",
    "    ax[1, 1].tick_params(axis='x', labelrotation=45)\n",
    "    plot_object = io.BytesIO()\n",
    "    plt.savefig(plot_object)\n",
    "    plot_object.seek(0)\n",
    "    plot_object.name = 'Dau.png'\n",
    "    plt.close()\n",
    "    bot.sendPhoto(chat_id=chat_id, photo=plot_object)"
   ]
  },
  {
   "cell_type": "code",
   "execution_count": null,
   "id": "6b75f6db",
   "metadata": {},
   "outputs": [],
   "source": [
    "@dag(default_args=default_args, schedule_interval=schedule_interval, catchup=False)\n",
    "def lmk_analitic_report():\n",
    "    @task()\n",
    "    def make_report():\n",
    "        lmk_report(chat_id='<id>')\n",
    "    make_report()"
   ]
  },
  {
   "cell_type": "code",
   "execution_count": null,
   "id": "e536e35d",
   "metadata": {},
   "outputs": [],
   "source": [
    "lmk_analitic_report = lmk_analitic_report()"
   ]
  }
 ],
 "metadata": {
  "kernelspec": {
   "display_name": "Python 3 (ipykernel)",
   "language": "python",
   "name": "python3"
  },
  "language_info": {
   "codemirror_mode": {
    "name": "ipython",
    "version": 3
   },
   "file_extension": ".py",
   "mimetype": "text/x-python",
   "name": "python",
   "nbconvert_exporter": "python",
   "pygments_lexer": "ipython3",
   "version": "3.8.8"
  }
 },
 "nbformat": 4,
 "nbformat_minor": 5
}
